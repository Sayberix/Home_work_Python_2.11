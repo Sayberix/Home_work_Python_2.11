{
 "cells": [
  {
   "cell_type": "code",
   "execution_count": 25,
   "id": "cb870937",
   "metadata": {},
   "outputs": [],
   "source": [
    "from sympy import *\n",
    "import matplotlib.pyplot as plt"
   ]
  },
  {
   "cell_type": "code",
   "execution_count": 26,
   "id": "51e1273b",
   "metadata": {},
   "outputs": [
    {
     "name": "stdout",
     "output_type": "stream",
     "text": [
      "1. Определить корни\n"
     ]
    },
    {
     "data": {
      "text/latex": [
       "$\\displaystyle 0.6 x^{3} + 5.5 x^{2} + 10 x - 5$"
      ],
      "text/plain": [
       "0.6*x**3 + 5.5*x**2 + 10*x - 5"
      ]
     },
     "execution_count": 26,
     "metadata": {},
     "output_type": "execute_result"
    }
   ],
   "source": [
    "print(\"1. Определить корни\")\n",
    "x = Symbol('x')\n",
    "func = 0.6*x**3 + 5.5*x**2 + 10*x - 5\n",
    "func"
   ]
  },
  {
   "cell_type": "code",
   "execution_count": 27,
   "id": "80927ab7",
   "metadata": {},
   "outputs": [
    {
     "name": "stdout",
     "output_type": "stream",
     "text": [
      "найденные корни: X1 = -6.32; X2 = -3.25\n"
     ]
    }
   ],
   "source": [
    "y = solve(func, x)\n",
    "print(f'найденные корни: X1 = {round(y[0],2)}; X2 = {round(y[1],2)}')"
   ]
  },
  {
   "cell_type": "code",
   "execution_count": 28,
   "id": "51579ef4",
   "metadata": {},
   "outputs": [
    {
     "name": "stdout",
     "output_type": "stream",
     "text": [
      "2. Найти интервалы, на которых функция возрастает\n",
      "((-1.11111111111111 < x) & (x < oo)) | ((-oo < x) & (x < -5.0))\n"
     ]
    }
   ],
   "source": [
    "print(\"2. Найти интервалы, на которых функция возрастает\")\n",
    "dif = diff(func)\n",
    "print(solve(0 < dif))"
   ]
  },
  {
   "cell_type": "code",
   "execution_count": 29,
   "id": "9cde20dc",
   "metadata": {},
   "outputs": [
    {
     "name": "stdout",
     "output_type": "stream",
     "text": [
      "3. Найти интервалы, на которых функция убывает\n",
      "(-5.0 < x) & (x < -1.11111111111111)\n"
     ]
    }
   ],
   "source": [
    "print(\"3. Найти интервалы, на которых функция убывает\")\n",
    "print(solve(0 > dif))"
   ]
  },
  {
   "cell_type": "code",
   "execution_count": 30,
   "id": "b2b6897f",
   "metadata": {},
   "outputs": [
    {
     "name": "stdout",
     "output_type": "stream",
     "text": [
      "4. Построить график\n",
      "[7.5, 4.600000000000001, -1.7000000000000028, -7.800000000000001, -10.1, -5.0, 11.100000000000001, 41.8, 90.7, 161.4, 257.5]\n"
     ]
    },
    {
     "data": {
      "image/png": "[encoded data removed]",
      "text/plain": [
       "<Figure size 640x480 with 1 Axes>"
      ]
     },
     "metadata": {},
     "output_type": "display_data"
    }
   ],
   "source": [
    "print(\"4. Построить график\")\n",
    "list_y = []\n",
    "for i in range(-5, 6):\n",
    "    x = i\n",
    "    y = 0.6*x**3 + 5.5*x**2 + 10*x - 5\n",
    "    list_y.append(y)\n",
    "print(list_y)\n",
    "plt.plot(range(-5, 6), [0, 0, 0, 0, 0, 0, 0, 0, 0, 0, 0])\n",
    "plt.plot(range(-5, 6), list_y)\n",
    "plt.show()"
   ]
  },
  {
   "cell_type": "code",
   "execution_count": 31,
   "id": "14f98081",
   "metadata": {},
   "outputs": [
    {
     "name": "stdout",
     "output_type": "stream",
     "text": [
      "5. Вычислить вершину\n",
      "x = -5.0, y = 7.5\n"
     ]
    }
   ],
   "source": [
    "print(\"5. Вычислить вершину\")\n",
    "roots = solve(dif)\n",
    "top = roots[0]\n",
    "x = top\n",
    "y = 0.6*x**3 + 5.5*x**2 + 10*x - 5\n",
    "print(f'x = {round(float(top), 2)}, y = {round(float(y), 2)}')"
   ]
  },
  {
   "cell_type": "code",
   "execution_count": 32,
   "id": "612260ec",
   "metadata": {},
   "outputs": [
    {
     "name": "stdout",
     "output_type": "stream",
     "text": [
      "6. Определить промежутки, на котором f > 0\n",
      "((-6.32174537314726 < x) & (x < -3.25046383307744)) | ((0.405542539558034 < x) & (x < oo))\n"
     ]
    }
   ],
   "source": [
    "print(\"6. Определить промежутки, на котором f > 0\")\n",
    "print(solve(0 < func))"
   ]
  },
  {
   "cell_type": "code",
   "execution_count": 23,
   "id": "275fbd97",
   "metadata": {},
   "outputs": [
    {
     "name": "stdout",
     "output_type": "stream",
     "text": [
      "7. Определить промежутки, на котором f < 0\n",
      "((-3.25046383307744 < x) & (x < 0.405542539558034)) | ((-oo < x) & (x < -6.32174537314726))\n"
     ]
    }
   ],
   "source": [
    "print(\"7. Определить промежутки, на котором f < 0\")\n",
    "print(solve(func < 0))"
   ]
  },
  {
   "cell_type": "code",
   "execution_count": null,
   "id": "5c3b1871",
   "metadata": {},
   "outputs": [],
   "source": []
  }
 ],
 "metadata": {
  "kernelspec": {
   "display_name": "Python 3 (ipykernel)",
   "language": "python",
   "name": "python3"
  },
  "language_info": {
   "codemirror_mode": {
    "name": "ipython",
    "version": 3
   },
   "file_extension": ".py",
   "mimetype": "text/x-python",
   "name": "python",
   "nbconvert_exporter": "python",
   "pygments_lexer": "ipython3",
   "version": "3.9.13"
  }
 },
 "nbformat": 4,
 "nbformat_minor": 5
}
